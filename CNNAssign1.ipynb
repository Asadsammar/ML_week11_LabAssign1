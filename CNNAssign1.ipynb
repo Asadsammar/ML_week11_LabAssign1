{
  "nbformat": 4,
  "nbformat_minor": 0,
  "metadata": {
    "colab": {
      "provenance": [],
      "gpuType": "T4",
      "include_colab_link": true
    },
    "kernelspec": {
      "name": "python3",
      "display_name": "Python 3"
    },
    "language_info": {
      "name": "python"
    },
    "accelerator": "GPU"
  },
  "cells": [
    {
      "cell_type": "markdown",
      "metadata": {
        "id": "view-in-github",
        "colab_type": "text"
      },
      "source": [
        "<a href=\"https://colab.research.google.com/github/Asadsammar/ML_week11_LabAssign1/blob/main/CNNAssign1.ipynb\" target=\"_parent\"><img src=\"https://colab.research.google.com/assets/colab-badge.svg\" alt=\"Open In Colab\"/></a>"
      ]
    },
    {
      "cell_type": "code",
      "execution_count": null,
      "metadata": {
        "id": "fn9TzGx7qhLx"
      },
      "outputs": [],
      "source": [
        "import tensorflow as tf\n",
        "\n",
        "from tensorflow.keras import datasets, layers, models\n",
        "import matplotlib.pyplot as plt"
      ]
    },
    {
      "cell_type": "code",
      "source": [
        "(train_images, train_labels), (test_images, test_labels) = datasets.cifar10.load_data()\n",
        "# Normalize pixel values to be between 0 and 1\n",
        "train_images, test_images = train_images / 255.0, test_images / 255.0\n"
      ],
      "metadata": {
        "colab": {
          "base_uri": "https://localhost:8080/"
        },
        "id": "sYzNKSylqlhP",
        "outputId": "98e5b9bf-9bc8-4ca9-d965-ee3454081c4f"
      },
      "execution_count": null,
      "outputs": [
        {
          "output_type": "stream",
          "name": "stdout",
          "text": [
            "Downloading data from https://www.cs.toronto.edu/~kriz/cifar-10-python.tar.gz\n",
            "170498071/170498071 [==============================] - 2s 0us/step\n"
          ]
        }
      ]
    },
    {
      "cell_type": "code",
      "source": [
        "# Define the CNN model architecture\n",
        "model = models.Sequential()\n",
        "\n",
        "# Add a convolutional layer with 64 filters of size 5x5\n",
        "model.add(layers.Conv2D(64, (5, 5), activation='relu', input_shape=(32, 32, 3)))\n",
        "\n",
        "# Add a batch normalization layer\n",
        "model.add(layers.BatchNormalization())\n",
        "\n",
        "# Add a max pooling layer with pool size 2x2\n",
        "model.add(layers.MaxPooling2D((2, 2)))\n",
        "\n",
        "# Add another convolutional layer with 128 filters of size 5x5\n",
        "model.add(layers.Conv2D(128, (5, 5), activation='relu'))\n",
        "\n",
        "# Add another batch normalization layer\n",
        "model.add(layers.BatchNormalization())\n",
        "\n",
        "# Add another max pooling layer with pool size 2x2\n",
        "model.add(layers.MaxPooling2D((2, 2)))\n",
        "\n",
        "# Add a flattening layer\n",
        "model.add(layers.Flatten())\n",
        "\n",
        "# Add a fully connected layer with 256 neurons\n",
        "model.add(layers.Dense(256, activation='relu'))\n",
        "\n",
        "# Add a dropout layer with drop rate 0.5\n",
        "model.add(layers.Dropout(0.5))\n",
        "\n",
        "# Add the final fully connected layer with 10 neurons\n",
        "model.add(layers.Dense(10))"
      ],
      "metadata": {
        "id": "VQYlyXsuq2_4"
      },
      "execution_count": null,
      "outputs": []
    },
    {
      "cell_type": "code",
      "source": [
        "# Compile the model\n",
        "\n",
        "model.compile(optimizer='adam',\n",
        "              loss=tf.keras.losses.SparseCategoricalCrossentropy(from_logits=True),\n",
        "              metrics=['accuracy'])\n",
        "\n"
      ],
      "metadata": {
        "id": "J0X3mpoqq-Bj"
      },
      "execution_count": null,
      "outputs": []
    },
    {
      "cell_type": "code",
      "source": [
        "# Train the model on the training data\n",
        "history = model.fit(train_images, train_labels, epochs=5)"
      ],
      "metadata": {
        "colab": {
          "base_uri": "https://localhost:8080/"
        },
        "id": "eN3Nd2gSrCvE",
        "outputId": "e99064d6-5ed3-4d13-f5f6-a3e9a8261e0f"
      },
      "execution_count": null,
      "outputs": [
        {
          "output_type": "stream",
          "name": "stdout",
          "text": [
            "Epoch 1/5\n",
            "1563/1563 [==============================] - 8s 5ms/step - loss: 0.4102 - accuracy: 0.8552\n",
            "Epoch 2/5\n",
            "1563/1563 [==============================] - 8s 5ms/step - loss: 0.4003 - accuracy: 0.8598\n",
            "Epoch 3/5\n",
            "1563/1563 [==============================] - 8s 5ms/step - loss: 0.3694 - accuracy: 0.8702\n",
            "Epoch 4/5\n",
            "1563/1563 [==============================] - 7s 5ms/step - loss: 0.3489 - accuracy: 0.8779\n",
            "Epoch 5/5\n",
            "1563/1563 [==============================] - 8s 5ms/step - loss: 0.3312 - accuracy: 0.8821\n"
          ]
        }
      ]
    },
    {
      "cell_type": "code",
      "source": [
        "# Evaluate the model on the test data\n",
        "test_loss, test_acc = model.evaluate(test_images, test_labels, verbose=2)\n"
      ],
      "metadata": {
        "colab": {
          "base_uri": "https://localhost:8080/"
        },
        "id": "ASr1Ah5hrFXS",
        "outputId": "7ebc5fdb-5121-461b-8ed4-295485162bf6"
      },
      "execution_count": null,
      "outputs": [
        {
          "output_type": "stream",
          "name": "stdout",
          "text": [
            "313/313 - 1s - loss: 0.9966 - accuracy: 0.7361 - 866ms/epoch - 3ms/step\n"
          ]
        }
      ]
    },
    {
      "cell_type": "code",
      "source": [
        "# Print the test accuracy\n",
        "print(test_acc)"
      ],
      "metadata": {
        "colab": {
          "base_uri": "https://localhost:8080/"
        },
        "id": "cTLjVI6G0mjI",
        "outputId": "9d3ad84c-8913-4594-f528-668138ed5a29"
      },
      "execution_count": null,
      "outputs": [
        {
          "output_type": "stream",
          "name": "stdout",
          "text": [
            "0.7361000180244446\n"
          ]
        }
      ]
    },
    {
      "cell_type": "code",
      "source": [],
      "metadata": {
        "id": "4V_b7qBbTLT0"
      },
      "execution_count": null,
      "outputs": []
    }
  ]
}